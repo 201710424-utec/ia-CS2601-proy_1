{
 "cells":[
  {
   "cell_type":"markdown",
   "source":[
    "# Proyecto 1.  \n",
    "\n",
    "---\n",
    "\n",
    "Universidad:    UTEC  \n",
    "Curso:          Inteligencia Artificial-CS2601  \n",
    "Profesor:       Cristian López Del Alamo  \n",
    "Tema:           Regresión y *machine learning* para predicción de áreas de incendio forestal.  \n",
    "Integrantes:\n",
    "- Sebastián Lizárraga\n",
    "- Carlos Guerrero\n",
    "\n",
    "---"
   ],
   "attachments":{
    
   },
   "metadata":{
    "datalore":{
     "node_id":"rYuapDtHrYVhdHR9RaTRrK",
     "type":"MD",
     "hide_input_from_viewers":false,
     "hide_output_from_viewers":false
    }
   }
  },
  {
   "cell_type":"markdown",
   "source":[
    "\n",
    "\n",
    "1.  En esta práctica se pide realizar pruebas utilizando   diferentes funciones de pérdida. \n",
    "\n",
    "2.  Su equipo debe implementar el algoritmo de machine learning para  regresión lineal múltiple y realizar las correspondientes pruebas usando el siguiente  [Dataset](https:\/\/drive.google.com\/file\/d\/18uGca04UQTt6xR1BTfecZzqhFtp3TqKa\/view?usp=sharing).  \n",
    "\n",
    "3. MSE Loss Function \\\\\n",
    "\n",
    "  $MSE = \\frac{1}{2m}\\sum_{i=0}^m (y_i - h(x_i))^2$ \n",
    "\n",
    "4. Utilize todo los datos del dataset para entrenar  y grafique el plano que mejor separa a los datos. [Help](https:\/\/stackoverflow.com\/questions\/36060933\/matplotlib-plot-a-plane-and-points-in-3d-simultaneously)\n",
    "\n",
    "Importante: No se olvide de normalizar los datos entre cero y uno, por cada columna.\n",
    " \n",
    " \n"
   ],
   "attachments":{
    
   },
   "metadata":{
    "datalore":{
     "node_id":"A1k3IQ13sGXUSJpmnC7JEK",
     "type":"MD",
     "hide_input_from_viewers":false,
     "hide_output_from_viewers":false
    }
   }
  },
  {
   "cell_type":"markdown",
   "source":[
    "Crear el DataSet\n",
    "\n",
    "Data set info: https:\/\/www.kaggle.com\/datasets\/elikplim\/forest-fires-data-set\n",
    "\n",
    "\n",
    "\n",
    "\n"
   ],
   "attachments":{
    
   },
   "metadata":{
    "datalore":{
     "node_id":"3NyBTYEEKXGSNSgThqKsR9",
     "type":"MD",
     "hide_input_from_viewers":false,
     "hide_output_from_viewers":false
    }
   }
  },
  {
   "cell_type":"code",
   "source":[
    "import pandas as pd\n",
    "import numpy as np\n",
    "import matplotlib.pyplot as plt"
   ],
   "execution_count":12,
   "outputs":[
    
   ],
   "metadata":{
    "datalore":{
     "node_id":"v2fbHRLEgchmgDc4TDFOPt",
     "type":"CODE",
     "hide_input_from_viewers":false,
     "hide_output_from_viewers":false
    }
   }
  },
  {
   "cell_type":"markdown",
   "source":[
    "# Normalización"
   ],
   "attachments":{
    
   },
   "metadata":{
    "datalore":{
     "node_id":"08y00VWMF4qs0R62FW7CG3",
     "type":"MD",
     "hide_input_from_viewers":false,
     "hide_output_from_viewers":false
    }
   }
  },
  {
   "cell_type":"code",
   "source":[
    "def normalice(df_input):\n",
    "    z = pd.DataFrame(df_input)\n",
    "    # Normalizacion con media y desviacion estandar\n",
    "    return z.apply(lambda x: (x-x.mean())\/ x.std(), axis=0)"
   ],
   "execution_count":13,
   "outputs":[
    
   ],
   "metadata":{
    "datalore":{
     "node_id":"IPjs54WR8Aquwfjb5TJYBc",
     "type":"CODE",
     "hide_input_from_viewers":false,
     "hide_output_from_viewers":false
    }
   }
  },
  {
   "cell_type":"code",
   "source":[
    "dataset = pd.read_csv('forestfires.csv')\n",
    "X = dataset[[\"RH\",\"temp\"]]\n",
    "Y = dataset[[\"area\"]]\n",
    "# Normalizamos la data\n",
    "X = normalice(X)\n",
    "Y = normalice(Y)\n",
    "# Luego de normalizar agregamos la columna del bias\n",
    "X = np.concatenate([np.ones((X.shape[0], 1)), X], axis=1)"
   ],
   "execution_count":14,
   "outputs":[
    
   ],
   "metadata":{
    "datalore":{
     "node_id":"TzpmJKNNX1pTVjjK7xpDZw",
     "type":"CODE",
     "hide_input_from_viewers":false,
     "hide_output_from_viewers":false
    }
   }
  },
  {
   "cell_type":"markdown",
   "source":[
    "# Modelo \n",
    "\n",
    "Nota: Antes añadir Añadir una columna de nx1 a X con valor 1.\n",
    "\n",
    "$h(X) = X*W^t$\n"
   ],
   "attachments":{
    
   },
   "metadata":{
    "datalore":{
     "node_id":"HWIMUSCNqzXAdp9g7pXVns",
     "type":"MD",
     "hide_input_from_viewers":false,
     "hide_output_from_viewers":false
    }
   }
  },
  {
   "cell_type":"code",
   "source":[
    "def h(X, W):\n",
    "    return np.dot(X,np.transpose(W))"
   ],
   "execution_count":15,
   "outputs":[
    
   ],
   "metadata":{
    "datalore":{
     "node_id":"38zbtJxIpCXsuZvPPDcvzA",
     "type":"CODE",
     "hide_input_from_viewers":false,
     "hide_output_from_viewers":false
    }
   }
  },
  {
   "cell_type":"markdown",
   "source":[
    "# Loss function\n",
    "Nota: La función de pérdida no cambia, solo la llamada a la función h\n",
    "$\\mathcal{L} =  ||Y - XW^t||_2^2$\n"
   ],
   "attachments":{
    
   },
   "metadata":{
    "datalore":{
     "node_id":"rouEWlbYChZZNvzBwlNcOe",
     "type":"MD",
     "hide_input_from_viewers":false,
     "hide_output_from_viewers":false
    }
   }
  },
  {
   "cell_type":"markdown",
   "source":[
    "Norma L2"
   ],
   "attachments":{
    
   },
   "metadata":{
    "datalore":{
     "node_id":"KjgqRDlY1VRpB5cHEdEbo8",
     "type":"MD",
     "hide_input_from_viewers":false,
     "hide_output_from_viewers":false
    }
   }
  },
  {
   "cell_type":"markdown",
   "source":[
    
   ],
   "attachments":{
    
   },
   "metadata":{
    "datalore":{
     "node_id":"Yr4L121W6E22aQpt4Aj4VS",
     "type":"MD",
     "hide_input_from_viewers":false,
     "hide_output_from_viewers":false
    }
   }
  },
  {
   "cell_type":"code",
   "source":[
    "def Error(X, W, Y, rho, lam):\n",
    "    #Calculo de error empleando los valores de ridge y lasso \n",
    "    ridge_component = (1- rho)*lam*np.sum(np.power(W, 2))\n",
    "    lasso_component = rho*(lam*np.sum(np.abs(W)))\n",
    "    n = X.shape[0]\n",
    "    normal_L2 = np.sum(np.power(Y - h(X, W), 2)) \/ (2 * n)\n",
    "    loss = normal_L2 + ridge_component + lasso_component\n",
    "    return normal_L2"
   ],
   "execution_count":16,
   "outputs":[
    
   ],
   "metadata":{
    "datalore":{
     "node_id":"D67onl2TjKdoVNh31huDO5",
     "type":"CODE",
     "hide_input_from_viewers":false,
     "hide_output_from_viewers":false
    }
   }
  },
  {
   "cell_type":"markdown",
   "source":[
    "# Cálculo de derivadas\n",
    "Nota: Intente resolver este algoritmo desde un punto de vista matricial.\n",
    "\n",
    "$dw_j = \\frac{1}{m}\\sum_{i=0}^m(y_i - h(x_i))(-x_{i,j})$"
   ],
   "attachments":{
    
   },
   "metadata":{
    "datalore":{
     "node_id":"hkGMgyrnc7aElfwhHcUKx8",
     "type":"MD",
     "hide_input_from_viewers":false,
     "hide_output_from_viewers":false
    }
   }
  },
  {
   "cell_type":"code",
   "source":[
    "def derivada(X, W, Y, lam, rho):\n",
    "    n = X.shape[0]\n",
    "    normal_L2_derivate = np.dot((Y - h(X,W)).transpose(), (-1 * X)) \/ n\n",
    "    #Generar los valores de la derivada por ringe y lasso \n",
    "    ridge_derivate = 2*lam*(1-rho)*W\n",
    "    lasso_derivate = np.sign(W)*rho*lam\n",
    "    #Calcular derivada mediante Elastinet\n",
    "    dW = normal_L2_derivate  + ridge_derivate + lasso_derivate\n",
    "    return normal_L2_derivate"
   ],
   "execution_count":17,
   "outputs":[
    
   ],
   "metadata":{
    "datalore":{
     "node_id":"gNyPjh1BqgIWVQS3MICSX5",
     "type":"CODE",
     "hide_input_from_viewers":false,
     "hide_output_from_viewers":false
    }
   }
  },
  {
   "cell_type":"markdown",
   "source":[
    "# Actualiación de parámetros \n",
    "\n",
    "Recuerde: $\\frac{\\partial L}{\\partial w}$ representa un vector con todas las derivadas de la función de pérdida con rescto a W. \n",
    "\n",
    "$W  = W - \\alpha*\\frac{\\partial L}{\\partial W} $\n"
   ],
   "attachments":{
    
   },
   "metadata":{
    "datalore":{
     "node_id":"U5srSvyVSDqIuXXyDMP90p",
     "type":"MD",
     "hide_input_from_viewers":false,
     "hide_output_from_viewers":false
    }
   }
  },
  {
   "cell_type":"code",
   "source":[
    "#Función para actualizar el valor de W\n",
    "def update(W,  dW, alpha): \n",
    "    return W - alpha * dW"
   ],
   "execution_count":18,
   "outputs":[
    
   ],
   "metadata":{
    "datalore":{
     "node_id":"jWG2dqvFApONKAyfp7szmD",
     "type":"CODE",
     "hide_input_from_viewers":false,
     "hide_output_from_viewers":false
    }
   }
  },
  {
   "cell_type":"markdown",
   "source":[
    "# Training"
   ],
   "attachments":{
    
   },
   "metadata":{
    "datalore":{
     "node_id":"IWF33w1TP0y11a2ZFp1tpH",
     "type":"MD",
     "hide_input_from_viewers":false,
     "hide_output_from_viewers":false
    }
   }
  },
  {
   "cell_type":"code",
   "source":[
    "def train(X, Y, umbral, alfa):\n",
    "    # Creamos un vector fila W aleatoria con el tamaño de columnas de X\n",
    "    X_columns = X.shape[1]\n",
    "    W = np.random.rand(1,X_columns)\n",
    "    rho = 0\n",
    "    lam = 10\n",
    "    L = Error(X,W,Y,rho, lam)\n",
    "    loss = []\n",
    "    while (L[0] > umbral):\n",
    "        dW = derivada(X, W, Y, lam, rho)\n",
    "        W = update(W, dW, alfa)\n",
    "        L = Error(X, W,Y, rho, lam)\n",
    "        loss.append(L)\n",
    "    return W, loss\n",
    "\n",
    "\n",
    "def Plot_Loss(epochs,loss):\n",
    "   plt.plot(epochs, loss)"
   ],
   "execution_count":19,
   "outputs":[
    
   ],
   "metadata":{
    "datalore":{
     "node_id":"XPJ6m4nkVSum57zHmQOVQf",
     "type":"CODE",
     "hide_input_from_viewers":false,
     "hide_output_from_viewers":false
    }
   }
  },
  {
   "cell_type":"markdown",
   "source":[
    "## Plot"
   ],
   "attachments":{
    
   },
   "metadata":{
    "datalore":{
     "node_id":"Z7iVp3VCAcpAepXUdpvib7",
     "type":"MD",
     "hide_input_from_viewers":false,
     "hide_output_from_viewers":false
    }
   }
  },
  {
   "cell_type":"code",
   "source":[
    "# import numpy as np\n",
    "# import matplotlib.pyplot as plt\n",
    "\n",
    "# plt.rcParams[\"figure.figsize\"] = [7.00, 3.50]\n",
    "# plt.rcParams[\"figure.autolayout\"] = True\n",
    "\n",
    "# x = np.linspace(-10, 10, 100)\n",
    "# y = np.linspace(-10, 10, 100)\n",
    "\n",
    "# x, y = np.meshgrid(x, y)\n",
    " \n",
    "# eq = 0.1 * x + 40 * y + 100.09  # ecuacion del plano: x_1w_1 + x_2w_2 + b\n",
    "\n",
    "# fig = plt.figure()\n",
    "\n",
    "# ax = fig.gca(projection='3d')\n",
    "\n",
    "# ax.plot_surface(x, y, eq)\n",
    "\n",
    "# plt.show()"
   ],
   "execution_count":20,
   "outputs":[
    
   ],
   "metadata":{
    "datalore":{
     "node_id":"2g07K38MUQNC1g5m1Qr24h",
     "type":"CODE",
     "hide_input_from_viewers":false,
     "hide_output_from_viewers":false
    }
   }
  },
  {
   "cell_type":"markdown",
   "source":[
    "# Testing"
   ],
   "attachments":{
    
   },
   "metadata":{
    "datalore":{
     "node_id":"NbWQSiOvsxt60hkPp8lLQm",
     "type":"MD",
     "hide_input_from_viewers":false,
     "hide_output_from_viewers":false
    }
   }
  },
  {
   "cell_type":"code",
   "source":[
    "def plot3D(w_0, w_1, w_2, X, Y):\n",
    "    plt.rcParams[\"figure.figsize\"] = [7.00, 3.50]\n",
    "    plt.rcParams[\"figure.autolayout\"] = True\n",
    "\n",
    "    x = np.linspace(-10, 10, 100)\n",
    "    y = np.linspace(-10, 10, 100)\n",
    "\n",
    "    x, y = np.meshgrid(x, y)\n",
    "    \n",
    "    eq = 0.1 * w_0 + 40 * w_1 + w_2 # ecuacion del plano: x_1w_1 + x_2w_2 + b\n",
    "\n",
    "    fig = plt.figure()\n",
    "\n",
    "    ax = fig.gca(projection='3d')\n",
    "\n",
    "    ax.plot_surface(x, y, eq)\n",
    "\n",
    "    plt.show()"
   ],
   "execution_count":21,
   "outputs":[
    
   ],
   "metadata":{
    "datalore":{
     "node_id":"kDR5tQwQPwpmowsejOEXcE",
     "type":"CODE",
     "hide_input_from_viewers":false,
     "hide_output_from_viewers":false
    }
   }
  },
  {
   "cell_type":"code",
   "source":[
    "umbral = 0.25\n",
    "alpha = 2\n",
    "\n",
    "W = train(X, Y, umbral, alpha)\n",
    "#plot3D(W[0],W[1],W[2],X,Y)"
   ],
   "execution_count":22,
   "outputs":[
    {
     "name":"stderr",
     "text":[
      "<ipython-input-16-d4a31dd5c6b9>:2: RuntimeWarning: overflow encountered in double_scalars\n",
      "  ridge_component = (1- rho)*lam*np.sum(np.power(W, 2))\n",
      "<ipython-input-16-d4a31dd5c6b9>:2: RuntimeWarning: overflow encountered in power\n",
      "  ridge_component = (1- rho)*lam*np.sum(np.power(W, 2))\n",
      "<ipython-input-16-d4a31dd5c6b9>:3: RuntimeWarning: invalid value encountered in double_scalars\n",
      "  lasso_component = rho*(lam*np.sum(np.abs(W)))\n"
     ],
     "output_type":"stream"
    }
   ],
   "metadata":{
    "datalore":{
     "node_id":"L0ZeC51h8d2rDkQtIIRgOy",
     "type":"CODE",
     "hide_input_from_viewers":false,
     "hide_output_from_viewers":false
    }
   }
  }
 ],
 "metadata":{
  "kernelspec":{
   "display_name":"Python",
   "language":"python",
   "name":"python"
  },
  "datalore":{
   "version":1,
   "computation_mode":"JUPYTER",
   "package_manager":"pip",
   "base_environment":"default",
   "packages":[
    
   ]
  }
 },
 "nbformat":4,
 "nbformat_minor":4
}